{
 "cells": [
  {
   "cell_type": "code",
   "execution_count": 1,
   "id": "a00cf7c1",
   "metadata": {},
   "outputs": [],
   "source": [
    "import seaborn as sns\n",
    "sns.set_theme(style=\"ticks\")\n",
    "sns.set_palette(\"Blues_r\")"
   ]
  },
  {
   "cell_type": "code",
   "execution_count": 3,
   "id": "759d02dc",
   "metadata": {},
   "outputs": [],
   "source": [
    "from symc.plotting import corner_plot\n",
    "from symc import SyncSimulation, SyncConfig, SimConfig\n",
    "from symc.plotting import corner_plot\n",
    "from symc.likelihoods import LIKELIHOODS\n",
    "\n",
    "likelihood = LIKELIHOODS['single_gaussian']"
   ]
  },
  {
   "cell_type": "code",
   "execution_count": null,
   "id": "63a4b1c5",
   "metadata": {},
   "outputs": [],
   "source": []
  }
 ],
 "metadata": {
  "kernelspec": {
   "display_name": "Python 3 (ipykernel)",
   "language": "python",
   "name": "python3"
  },
  "language_info": {
   "codemirror_mode": {
    "name": "ipython",
    "version": 3
   },
   "file_extension": ".py",
   "mimetype": "text/x-python",
   "name": "python",
   "nbconvert_exporter": "python",
   "pygments_lexer": "ipython3",
   "version": "3.10.8"
  }
 },
 "nbformat": 4,
 "nbformat_minor": 5
}
