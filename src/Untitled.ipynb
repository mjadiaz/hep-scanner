{
 "cells": [
  {
   "cell_type": "code",
   "execution_count": 1,
   "id": "2eac366a",
   "metadata": {},
   "outputs": [],
   "source": [
    "from hep_stack import HEPSTACK\n",
    "from omegaconf import OmegaConf\n",
    "from hepaid.hepread import LesHouches"
   ]
  },
  {
   "cell_type": "code",
   "execution_count": 2,
   "id": "6469352f",
   "metadata": {},
   "outputs": [],
   "source": [
    "SCANNER_DEFAULT_CONFIG = OmegaConf.create({\n",
    "    'hep_stack_name': 'SPhenoHbHs',\n",
    "    'scanner': {\n",
    "        'max_samples': 20,\n",
    "        'n_workers': 3,\n",
    "        },\n",
    "    'worker': {\n",
    "        'send_samples_freq': 4,\n",
    "        },\n",
    "    'logger': {\n",
    "        'type': 'Wandb',\n",
    "        'update_freq': 2\n",
    "        }\n",
    "    })\n",
    "\n",
    "HEP_DEFAULT_CONFIG = OmegaConf.create(\n",
    "    \"\"\"\n",
    "    model:\n",
    "        name: 'BLSSM'\n",
    "        neutral_higgs: 6\n",
    "        charged_higgs: 1\n",
    "        parameters:\n",
    "            name:      ['m0', 'm12',   'Azero', 'TanBeta']\n",
    "            low_lim:   [100.,  1000., 1000., 1.]\n",
    "            high_lim:  [1000., 4500., 4000.,60.]\n",
    "            lhs:\n",
    "                index: [1,2,5,3]\n",
    "                block: ['MINPAR','MINPAR','MINPAR','MINPAR']\n",
    "                distribution: ['uniform', 'uniform', 'uniform', 'uniform']\n",
    "\n",
    "    directories:\n",
    "        scan_dir: '/mainfs/scratch/mjad1g20/scan_dir_test'\n",
    "        reference_lhs: '/scratch/mjad1g20/ParameterScan/input_files/diphoton_paper'\n",
    "        spheno: '/home/mjad1g20/HEP/SPHENO/SPheno-4.0.5'\n",
    "        higgsbounds: '/home/mjad1g20/HEP/HB/higgsbounds-5.10.2/build'\n",
    "        madgraph: '/scratch/mjad1g20/HEP/MG5_aMC_v3_1_1'\n",
    "        higgssignals: '/home/mjad1g20/HEP/HS/higgssignals-2.6.2/build'\n",
    "        final_dataset: 'datasets/diphoton_paper'\n",
    "    \"\"\")\n"
   ]
  },
  {
   "cell_type": "code",
   "execution_count": 3,
   "id": "a2beea31",
   "metadata": {},
   "outputs": [],
   "source": [
    "mystack = HEPSTACK['SPhenoHbHs'](1, HEP_DEFAULT_CONFIG)"
   ]
  },
  {
   "cell_type": "code",
   "execution_count": null,
   "id": "1b7c2046",
   "metadata": {},
   "outputs": [],
   "source": []
  },
  {
   "cell_type": "code",
   "execution_count": 4,
   "id": "7aa0d12a",
   "metadata": {},
   "outputs": [],
   "source": [
    "point = mystack.space.sample()\n",
    "result = mystack.sample(point)"
   ]
  },
  {
   "cell_type": "code",
   "execution_count": 37,
   "id": "5bfe6fb1",
   "metadata": {},
   "outputs": [],
   "source": [
    "lhe = LesHouches(result['LHE'], work_dir='.', model='BLSSM')"
   ]
  },
  {
   "cell_type": "code",
   "execution_count": 43,
   "id": "dbeff80a",
   "metadata": {},
   "outputs": [
    {
     "data": {
      "text/plain": [
       "{'entries': {'': {'value': [],\n",
       "   'comment': '#   PDG code      mass          particle',\n",
       "   'line': '#   PDG code      mass          particle\\n'},\n",
       "  '1000001': {'value': [2966.06242],\n",
       "   'comment': '# Sd_1',\n",
       "   'line': '   1000001     2.96606242E+03  # Sd_1\\n'},\n",
       "  '1000003': {'value': [3032.34315],\n",
       "   'comment': '# Sd_2',\n",
       "   'line': '   1000003     3.03234315E+03  # Sd_2\\n'},\n",
       "  '1000005': {'value': [3075.61883],\n",
       "   'comment': '# Sd_3',\n",
       "   'line': '   1000005     3.07561883E+03  # Sd_3\\n'},\n",
       "  '2000001': {'value': [3075.63585],\n",
       "   'comment': '# Sd_4',\n",
       "   'line': '   2000001     3.07563585E+03  # Sd_4\\n'},\n",
       "  '2000003': {'value': [3200.17678],\n",
       "   'comment': '# Sd_5',\n",
       "   'line': '   2000003     3.20017678E+03  # Sd_5\\n'},\n",
       "  '2000005': {'value': [3200.21937],\n",
       "   'comment': '# Sd_6',\n",
       "   'line': '   2000005     3.20021937E+03  # Sd_6\\n'},\n",
       "  '1000002': {'value': [2613.99373],\n",
       "   'comment': '# Su_1',\n",
       "   'line': '   1000002     2.61399373E+03  # Su_1\\n'},\n",
       "  '1000004': {'value': [2975.66696],\n",
       "   'comment': '# Su_2',\n",
       "   'line': '   1000004     2.97566696E+03  # Su_2\\n'},\n",
       "  '1000006': {'value': [3068.90158],\n",
       "   'comment': '# Su_3',\n",
       "   'line': '   1000006     3.06890158E+03  # Su_3\\n'},\n",
       "  '2000002': {'value': [3068.90873],\n",
       "   'comment': '# Su_4',\n",
       "   'line': '   2000002     3.06890873E+03  # Su_4\\n'},\n",
       "  '2000004': {'value': [3199.1744],\n",
       "   'comment': '# Su_5',\n",
       "   'line': '   2000004     3.19917440E+03  # Su_5\\n'},\n",
       "  '2000006': {'value': [3199.21813],\n",
       "   'comment': '# Su_6',\n",
       "   'line': '   2000006     3.19921813E+03  # Su_6\\n'},\n",
       "  '1000011': {'value': [622.496175],\n",
       "   'comment': '# Se_1',\n",
       "   'line': '   1000011     6.22496175E+02  # Se_1\\n'},\n",
       "  '1000013': {'value': [771.092767],\n",
       "   'comment': '# Se_2',\n",
       "   'line': '   1000013     7.71092767E+02  # Se_2\\n'},\n",
       "  '1000015': {'value': [771.581742],\n",
       "   'comment': '# Se_3',\n",
       "   'line': '   1000015     7.71581742E+02  # Se_3\\n'},\n",
       "  '2000011': {'value': [1292.15849],\n",
       "   'comment': '# Se_4',\n",
       "   'line': '   2000011     1.29215849E+03  # Se_4\\n'},\n",
       "  '2000013': {'value': [1330.57178],\n",
       "   'comment': '# Se_5',\n",
       "   'line': '   2000013     1.33057178E+03  # Se_5\\n'},\n",
       "  '2000015': {'value': [1330.70958],\n",
       "   'comment': '# Se_6',\n",
       "   'line': '   2000015     1.33070958E+03  # Se_6\\n'},\n",
       "  '1000012': {'value': [1288.36598],\n",
       "   'comment': '# SvRe_1',\n",
       "   'line': '   1000012     1.28836598E+03  # SvRe_1\\n'},\n",
       "  '1000014': {'value': [1327.82032],\n",
       "   'comment': '# SvRe_2',\n",
       "   'line': '   1000014     1.32782032E+03  # SvRe_2\\n'},\n",
       "  '1000016': {'value': [1327.96199],\n",
       "   'comment': '# SvRe_3',\n",
       "   'line': '   1000016     1.32796199E+03  # SvRe_3\\n'},\n",
       "  '2000012': {'value': [1814.92665],\n",
       "   'comment': '# SvRe_4',\n",
       "   'line': '   2000012     1.81492665E+03  # SvRe_4\\n'},\n",
       "  '2000014': {'value': [1884.43051],\n",
       "   'comment': '# SvRe_5',\n",
       "   'line': '   2000014     1.88443051E+03  # SvRe_5\\n'},\n",
       "  '2000016': {'value': [1884.43051],\n",
       "   'comment': '# SvRe_6',\n",
       "   'line': '   2000016     1.88443051E+03  # SvRe_6\\n'},\n",
       "  '4000012': {'value': [1288.36598],\n",
       "   'comment': '# SvIm_1',\n",
       "   'line': '   4000012     1.28836598E+03  # SvIm_1\\n'},\n",
       "  '4000014': {'value': [1327.82032],\n",
       "   'comment': '# SvIm_2',\n",
       "   'line': '   4000014     1.32782032E+03  # SvIm_2\\n'},\n",
       "  '4000016': {'value': [1327.96199],\n",
       "   'comment': '# SvIm_3',\n",
       "   'line': '   4000016     1.32796199E+03  # SvIm_3\\n'},\n",
       "  '5000012': {'value': [1491.3884],\n",
       "   'comment': '# SvIm_4',\n",
       "   'line': '   5000012     1.49138840E+03  # SvIm_4\\n'},\n",
       "  '5000014': {'value': [1711.45815],\n",
       "   'comment': '# SvIm_5',\n",
       "   'line': '   5000014     1.71145815E+03  # SvIm_5\\n'},\n",
       "  '5000016': {'value': [1711.45815],\n",
       "   'comment': '# SvIm_6',\n",
       "   'line': '   5000016     1.71145815E+03  # SvIm_6\\n'},\n",
       "  '25': {'value': [100.345625],\n",
       "   'comment': '# hh_1',\n",
       "   'line': '        25     1.00345625E+02  # hh_1\\n'},\n",
       "  '35': {'value': [119.672134],\n",
       "   'comment': '# hh_2',\n",
       "   'line': '        35     1.19672134E+02  # hh_2\\n'},\n",
       "  '9900025': {'value': [1831.48436],\n",
       "   'comment': '# hh_3',\n",
       "   'line': '   9900025     1.83148436E+03  # hh_3\\n'},\n",
       "  '9900035': {'value': [2829.75544],\n",
       "   'comment': '# hh_4',\n",
       "   'line': '   9900035     2.82975544E+03  # hh_4\\n'},\n",
       "  '36': {'value': [1381.43623],\n",
       "   'comment': '# Ah_3',\n",
       "   'line': '        36     1.38143623E+03  # Ah_3\\n'},\n",
       "  '9900036': {'value': [1831.43873],\n",
       "   'comment': '# Ah_4',\n",
       "   'line': '   9900036     1.83143873E+03  # Ah_4\\n'},\n",
       "  '37': {'value': [1831.44177],\n",
       "   'comment': '# Hpm_2',\n",
       "   'line': '        37     1.83144177E+03  # Hpm_2\\n'},\n",
       "  '23': {'value': [91.1887],\n",
       "   'comment': '# VZ',\n",
       "   'line': '        23     9.11887000E+01  # VZ\\n'},\n",
       "  '24': {'value': [79.0603513],\n",
       "   'comment': '# VWm',\n",
       "   'line': '        24     7.90603513E+01  # VWm\\n'},\n",
       "  '1': {'value': [0.005],\n",
       "   'comment': '# Fd_1',\n",
       "   'line': '         1     5.00000000E-03  # Fd_1\\n'},\n",
       "  '3': {'value': [0.095],\n",
       "   'comment': '# Fd_2',\n",
       "   'line': '         3     9.50000000E-02  # Fd_2\\n'},\n",
       "  '5': {'value': [4.18],\n",
       "   'comment': '# Fd_3',\n",
       "   'line': '         5     4.18000000E+00  # Fd_3\\n'},\n",
       "  '2': {'value': [0.0025],\n",
       "   'comment': '# Fu_1',\n",
       "   'line': '         2     2.50000000E-03  # Fu_1\\n'},\n",
       "  '4': {'value': [1.27],\n",
       "   'comment': '# Fu_2',\n",
       "   'line': '         4     1.27000000E+00  # Fu_2\\n'},\n",
       "  '6': {'value': [173.5],\n",
       "   'comment': '# Fu_3',\n",
       "   'line': '         6     1.73500000E+02  # Fu_3\\n'},\n",
       "  '11': {'value': [0.00051099893],\n",
       "   'comment': '# Fe_1',\n",
       "   'line': '        11     5.10998930E-04  # Fe_1\\n'},\n",
       "  '13': {'value': [0.105658372],\n",
       "   'comment': '# Fe_2',\n",
       "   'line': '        13     1.05658372E-01  # Fe_2\\n'},\n",
       "  '15': {'value': [1.77669],\n",
       "   'comment': '# Fe_3',\n",
       "   'line': '        15     1.77669000E+00  # Fe_3\\n'},\n",
       "  '12': {'value': [1.37476617e-07],\n",
       "   'comment': '# Fv_1',\n",
       "   'line': '        12     1.37476617E-07  # Fv_1\\n'},\n",
       "  '14': {'value': [1.37635284e-07],\n",
       "   'comment': '# Fv_2',\n",
       "   'line': '        14     1.37635284E-07  # Fv_2\\n'},\n",
       "  '16': {'value': [1.48820769e-07],\n",
       "   'comment': '# Fv_3',\n",
       "   'line': '        16     1.48820769E-07  # Fv_3\\n'},\n",
       "  '112': {'value': [1781.09232],\n",
       "   'comment': '# Fv_4',\n",
       "   'line': '       112     1.78109232E+03  # Fv_4\\n'},\n",
       "  '114': {'value': [1924.15664],\n",
       "   'comment': '# Fv_5',\n",
       "   'line': '       114     1.92415664E+03  # Fv_5\\n'},\n",
       "  '116': {'value': [1924.15664],\n",
       "   'comment': '# Fv_6',\n",
       "   'line': '       116     1.92415664E+03  # Fv_6\\n'},\n",
       "  '1000021': {'value': [3508.78328],\n",
       "   'comment': '# Glu',\n",
       "   'line': '   1000021     3.50878328E+03  # Glu\\n'},\n",
       "  '1000024': {'value': [1336.85951],\n",
       "   'comment': '# Cha_1',\n",
       "   'line': '   1000024     1.33685951E+03  # Cha_1\\n'},\n",
       "  '1000037': {'value': [1560.80698],\n",
       "   'comment': '# Cha_2',\n",
       "   'line': '   1000037     1.56080698E+03  # Cha_2\\n'},\n",
       "  '31': {'value': [2525.76794],\n",
       "   'comment': '# VZp',\n",
       "   'line': '        31     2.52576794E+03  # VZp\\n'},\n",
       "  '1000022': {'value': [617.866941],\n",
       "   'comment': '# Chi_1',\n",
       "   'line': '   1000022     6.17866941E+02  # Chi_1\\n'},\n",
       "  '1000023': {'value': [784.612015],\n",
       "   'comment': '# Chi_2',\n",
       "   'line': '   1000023     7.84612015E+02  # Chi_2\\n'},\n",
       "  '1000025': {'value': [1336.73974],\n",
       "   'comment': '# Chi_3',\n",
       "   'line': '   1000025     1.33673974E+03  # Chi_3\\n'},\n",
       "  '1000035': {'value': [1544.85822],\n",
       "   'comment': '# Chi_4',\n",
       "   'line': '   1000035     1.54485822E+03  # Chi_4\\n'},\n",
       "  '1000032': {'value': [1560.80105],\n",
       "   'comment': '# Chi_5',\n",
       "   'line': '   1000032     1.56080105E+03  # Chi_5\\n'},\n",
       "  '1000036': {'value': [1840.24131],\n",
       "   'comment': '# Chi_6',\n",
       "   'line': '   1000036     1.84024131E+03  # Chi_6\\n'},\n",
       "  '1000039': {'value': [3132.44874],\n",
       "   'comment': '# Chi_7',\n",
       "   'line': '   1000039     3.13244874E+03  # Chi_7\\n'}},\n",
       " 'block_name': 'MASS',\n",
       " 'block_comment': '# MASS SPECTRUM',\n",
       " 'q_values': None,\n",
       " 'block_category': 'BLOCK',\n",
       " 'header_line': 'Block MASS  # Mass spectrum\\n'}"
      ]
     },
     "execution_count": 43,
     "metadata": {},
     "output_type": "execute_result"
    }
   ],
   "source": [
    "result['SLHA']['MASS']"
   ]
  },
  {
   "cell_type": "code",
   "execution_count": 39,
   "id": "3425cd72",
   "metadata": {},
   "outputs": [
    {
     "data": {
      "text/plain": [
       "Block MINPAR   # INPUT PARAMETERS\n",
       "1      5.611723E+02        # m0         \n",
       "2      1.661096E+03        # m12        \n",
       "3      2.103589E+01        # TanBeta    \n",
       "4      1.0000000E+00       # SignumMu   \n",
       "5      2.915248E+03        # Azero      \n",
       "6      1.0000000E+00       # SignumMuP  \n",
       "7      1.1500000E+00       # TBetaP     \n",
       "8      2.5000000E+03       # MZp        \n",
       "11     0.0000000E+00       # MuInput    \n",
       "12     0.0000000E+00       # MuPInput   \n",
       "13     0.0000000E+00       # BMuInput   \n",
       "14     0.0000000E+00       # BMuPInput  "
      ]
     },
     "execution_count": 39,
     "metadata": {},
     "output_type": "execute_result"
    }
   ],
   "source": [
    "lhe['MINPAR']\n"
   ]
  },
  {
   "cell_type": "code",
   "execution_count": 5,
   "id": "8ec8ab83",
   "metadata": {},
   "outputs": [],
   "source": [
    "from hepaid.hepdata import HEPDataSet"
   ]
  },
  {
   "cell_type": "code",
   "execution_count": 6,
   "id": "2c4531ee",
   "metadata": {},
   "outputs": [],
   "source": [
    "ds = HEPDataSet()"
   ]
  },
  {
   "cell_type": "code",
   "execution_count": 7,
   "id": "1b74638d",
   "metadata": {},
   "outputs": [
    {
     "data": {
      "application/vnd.jupyter.widget-view+json": {
       "model_id": "7cdf8fb0b4004d399e0e4a71b86fd989",
       "version_major": 2,
       "version_minor": 0
      },
      "text/plain": [
       "Output()"
      ]
     },
     "metadata": {},
     "output_type": "display_data"
    },
    {
     "data": {
      "text/html": [
       "<pre style=\"white-space:pre;overflow-x:auto;line-height:normal;font-family:Menlo,'DejaVu Sans Mono',consolas,'Courier New',monospace\"></pre>\n"
      ],
      "text/plain": []
     },
     "metadata": {},
     "output_type": "display_data"
    },
    {
     "data": {
      "text/html": [
       "<pre style=\"white-space:pre;overflow-x:auto;line-height:normal;font-family:Menlo,'DejaVu Sans Mono',consolas,'Courier New',monospace\">\n",
       "</pre>\n"
      ],
      "text/plain": [
       "\n"
      ]
     },
     "metadata": {},
     "output_type": "display_data"
    },
    {
     "name": "stdout",
     "output_type": "stream",
     "text": [
      "EOFError: corrupted files:  4\n"
     ]
    }
   ],
   "source": [
    "ds.load_from_directory('/scratch/mjad1g20/ParameterScan/datasets_mssm_loop/MSSM')"
   ]
  },
  {
   "cell_type": "code",
   "execution_count": 14,
   "id": "310422ee",
   "metadata": {},
   "outputs": [
    {
     "data": {
      "text/plain": [
       "{'value': [122.317345],\n",
       " 'comment': '# hh_1',\n",
       " 'line': '        25     1.22317345E+02  # hh_1\\n'}"
      ]
     },
     "execution_count": 14,
     "metadata": {},
     "output_type": "execute_result"
    }
   ],
   "source": [
    "ds[2]['SLHA']['MASS']['entries']['25']"
   ]
  },
  {
   "cell_type": "code",
   "execution_count": null,
   "id": "9f01d2bf",
   "metadata": {},
   "outputs": [],
   "source": []
  }
 ],
 "metadata": {
  "kernelspec": {
   "display_name": "Python [conda env:.conda-rrlib]",
   "language": "python",
   "name": "conda-env-.conda-rrlib-py"
  },
  "language_info": {
   "codemirror_mode": {
    "name": "ipython",
    "version": 3
   },
   "file_extension": ".py",
   "mimetype": "text/x-python",
   "name": "python",
   "nbconvert_exporter": "python",
   "pygments_lexer": "ipython3",
   "version": "3.8.12"
  }
 },
 "nbformat": 4,
 "nbformat_minor": 5
}
